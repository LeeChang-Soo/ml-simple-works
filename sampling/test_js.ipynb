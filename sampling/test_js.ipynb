{
 "cells": [
  {
   "cell_type": "code",
   "execution_count": 1,
   "metadata": {},
   "outputs": [
    {
     "data": {
      "application/javascript": [
       "//https://stackoverflow.com/questions/30367591/how-to-add-external-javascript-file-in-ipython-notebook\n",
       "\n",
       "window.get_element = function(el){\n",
       "    if(el){ $(el).html('') }\n",
       "    return (el !== undefined) ? el[0] : $('script').last().parent()[0];\n",
       "};\n",
       "\n",
       "element = undefined;"
      ],
      "text/plain": [
       "<IPython.core.display.Javascript object>"
      ]
     },
     "metadata": {},
     "output_type": "display_data"
    }
   ],
   "source": [
    "%%javascript\n",
    "//https://stackoverflow.com/questions/30367591/how-to-add-external-javascript-file-in-ipython-notebook\n",
    "\n",
    "window.get_element = function(el){\n",
    "    if(el){ $(el).html('') }\n",
    "    return (el !== undefined) ? el[0] : $('script').last().parent()[0];\n",
    "};\n",
    "\n",
    "element = undefined;"
   ]
  },
  {
   "cell_type": "code",
   "execution_count": 2,
   "metadata": {},
   "outputs": [
    {
     "data": {
      "application/javascript": [
       "//https://stackoverflow.com/questions/30367591/how-to-add-external-javascript-file-in-ipython-notebook\n",
       "\n",
       "requirejs.config({\n",
       "    paths: { \n",
       "        'd3': ['//cdnjs.cloudflare.com/ajax/libs/d3/3.5.6/d3'], \n",
       "        // strip .js ^, require adds it back\n",
       "    },\n",
       "});\n",
       "\n",
       "(function(){\n",
       "    var targetElement = get_element(element);\n",
       "    require(['d3'], function(d3) {\n",
       "        //console.log(\"Loaded :)\");   \n",
       "\n",
       "        var data = [1, 2, 3, 4, 5, 6, 10]\n",
       "            var svg = d3.select(targetElement).append('svg')\n",
       "                .attr('width', '350px')\n",
       "                .attr('height', '100px')\n",
       "                .style('border', '1px solid lightgray');\n",
       "\n",
       "            svg.selectAll('circle')\n",
       "                .data(data)\n",
       "                .enter()\n",
       "                .append('circle')\n",
       "                .style('fill', 'skyblue')\n",
       "                .attr('cx', function(d, i){ return i * (350/data.length) + 15})\n",
       "                .attr('cy', '50px')\n",
       "                .attr('r', function(d){ return d * 3})\n",
       "        return {};\n",
       "    });\n",
       "})()"
      ],
      "text/plain": [
       "<IPython.core.display.Javascript object>"
      ]
     },
     "metadata": {},
     "output_type": "display_data"
    }
   ],
   "source": [
    "%%javascript\n",
    "//https://stackoverflow.com/questions/30367591/how-to-add-external-javascript-file-in-ipython-notebook\n",
    "\n",
    "requirejs.config({\n",
    "    paths: { \n",
    "        'd3': ['//cdnjs.cloudflare.com/ajax/libs/d3/3.5.6/d3'], \n",
    "        // strip .js ^, require adds it back\n",
    "    },\n",
    "});\n",
    "\n",
    "(function(){\n",
    "    var targetElement = get_element(element);\n",
    "    require(['d3'], function(d3) {\n",
    "        //console.log(\"Loaded :)\");   \n",
    "\n",
    "        var data = [1, 2, 3, 4, 5, 6, 10]\n",
    "            var svg = d3.select(targetElement).append('svg')\n",
    "                .attr('width', '350px')\n",
    "                .attr('height', '100px')\n",
    "                .style('border', '1px solid lightgray');\n",
    "\n",
    "            svg.selectAll('circle')\n",
    "                .data(data)\n",
    "                .enter()\n",
    "                .append('circle')\n",
    "                .style('fill', 'skyblue')\n",
    "                .attr('cx', function(d, i){ return i * (350/data.length) + 15})\n",
    "                .attr('cy', '50px')\n",
    "                .attr('r', function(d){ return d * 3})\n",
    "        return {};\n",
    "    });\n",
    "})()"
   ]
  }
 ],
 "metadata": {
  "kernelspec": {
   "display_name": "Python 3",
   "language": "python",
   "name": "python3"
  },
  "language_info": {
   "codemirror_mode": {
    "name": "ipython",
    "version": 3
   },
   "file_extension": ".py",
   "mimetype": "text/x-python",
   "name": "python",
   "nbconvert_exporter": "python",
   "pygments_lexer": "ipython3",
   "version": "3.5.2"
  }
 },
 "nbformat": 4,
 "nbformat_minor": 2
}
